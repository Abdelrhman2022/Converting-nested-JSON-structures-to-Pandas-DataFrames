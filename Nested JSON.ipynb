{
 "cells": [
  {
   "cell_type": "code",
   "execution_count": 131,
   "id": "a982881b",
   "metadata": {},
   "outputs": [],
   "source": [
    "import json\n",
    "import pandas as pd"
   ]
  },
  {
   "cell_type": "code",
   "execution_count": 132,
   "id": "52cf4e22",
   "metadata": {},
   "outputs": [],
   "source": [
    "with open(r'Nested Columns.json') as data_file:    \n",
    "    data = json.load(data_file)"
   ]
  },
  {
   "cell_type": "code",
   "execution_count": 133,
   "id": "f89410c3",
   "metadata": {},
   "outputs": [],
   "source": [
    "df = pd.json_normalize(data)"
   ]
  },
  {
   "cell_type": "code",
   "execution_count": 134,
   "id": "49a6ac82",
   "metadata": {},
   "outputs": [],
   "source": [
    "df.columns = df.columns.map(lambda x: x.split(\".\")[-1])"
   ]
  },
  {
   "cell_type": "code",
   "execution_count": 135,
   "id": "a7d864c5",
   "metadata": {},
   "outputs": [
    {
     "data": {
      "text/html": [
       "<div>\n",
       "<style scoped>\n",
       "    .dataframe tbody tr th:only-of-type {\n",
       "        vertical-align: middle;\n",
       "    }\n",
       "\n",
       "    .dataframe tbody tr th {\n",
       "        vertical-align: top;\n",
       "    }\n",
       "\n",
       "    .dataframe thead th {\n",
       "        text-align: right;\n",
       "    }\n",
       "</style>\n",
       "<table border=\"1\" class=\"dataframe\">\n",
       "  <thead>\n",
       "    <tr style=\"text-align: right;\">\n",
       "      <th></th>\n",
       "      <th>id</th>\n",
       "      <th>company</th>\n",
       "      <th>location</th>\n",
       "      <th>president</th>\n",
       "      <th>email</th>\n",
       "      <th>tel</th>\n",
       "    </tr>\n",
       "  </thead>\n",
       "  <tbody>\n",
       "    <tr>\n",
       "      <th>0</th>\n",
       "      <td>001</td>\n",
       "      <td>XYZ pvt ltd</td>\n",
       "      <td>London</td>\n",
       "      <td>Rakesh Kapoor</td>\n",
       "      <td>contact@xyz.com</td>\n",
       "      <td>9876543210</td>\n",
       "    </tr>\n",
       "    <tr>\n",
       "      <th>1</th>\n",
       "      <td>002</td>\n",
       "      <td>PQR Associates</td>\n",
       "      <td>Abu Dhabi</td>\n",
       "      <td>Neelam Subramaniyam</td>\n",
       "      <td>contact@pqr.com</td>\n",
       "      <td>8876443210</td>\n",
       "    </tr>\n",
       "  </tbody>\n",
       "</table>\n",
       "</div>"
      ],
      "text/plain": [
       "    id         company   location            president            email  \\\n",
       "0  001     XYZ pvt ltd     London        Rakesh Kapoor  contact@xyz.com   \n",
       "1  002  PQR Associates  Abu Dhabi  Neelam Subramaniyam  contact@pqr.com   \n",
       "\n",
       "          tel  \n",
       "0  9876543210  \n",
       "1  8876443210  "
      ]
     },
     "execution_count": 135,
     "metadata": {},
     "output_type": "execute_result"
    }
   ],
   "source": [
    "df.head()"
   ]
  },
  {
   "cell_type": "code",
   "execution_count": 136,
   "id": "d0558ace",
   "metadata": {},
   "outputs": [],
   "source": [
    "df.to_csv(\"Sample.csv\", index = False)"
   ]
  },
  {
   "cell_type": "code",
   "execution_count": null,
   "id": "95ddc335",
   "metadata": {},
   "outputs": [],
   "source": []
  }
 ],
 "metadata": {
  "kernelspec": {
   "display_name": "Python 3 (ipykernel)",
   "language": "python",
   "name": "python3"
  },
  "language_info": {
   "codemirror_mode": {
    "name": "ipython",
    "version": 3
   },
   "file_extension": ".py",
   "mimetype": "text/x-python",
   "name": "python",
   "nbconvert_exporter": "python",
   "pygments_lexer": "ipython3",
   "version": "3.9.12"
  }
 },
 "nbformat": 4,
 "nbformat_minor": 5
}
